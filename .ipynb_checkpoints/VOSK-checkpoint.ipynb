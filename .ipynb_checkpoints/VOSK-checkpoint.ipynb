{
 "cells": [
  {
   "cell_type": "code",
   "execution_count": 1,
   "id": "372d8b1e",
   "metadata": {},
   "outputs": [],
   "source": [
    "# instalar FFMPEG no windows https://phoenixnap.com/kb/ffmpeg-windows\n",
    "import ffmpeg"
   ]
  },
  {
   "cell_type": "code",
   "execution_count": 2,
   "id": "57d68012",
   "metadata": {},
   "outputs": [],
   "source": [
    "from pydub import AudioSegment"
   ]
  },
  {
   "cell_type": "markdown",
   "id": "1389c96a",
   "metadata": {},
   "source": [
    "### Loading audio file"
   ]
  },
  {
   "cell_type": "code",
   "execution_count": 3,
   "id": "7a85d428",
   "metadata": {},
   "outputs": [
    {
     "data": {
      "text/plain": [
       "<_io.BufferedRandom name='trecho_livro.wav'>"
      ]
     },
     "execution_count": 3,
     "metadata": {},
     "output_type": "execute_result"
    }
   ],
   "source": [
    "# Load MP3 file\n",
    "audio = AudioSegment.from_mp3('trecho_livro.mp3')\n",
    "# Convert to WAV\n",
    "audio.export(\"trecho_livro.wav\", format=\"wav\")"
   ]
  },
  {
   "cell_type": "markdown",
   "id": "2a3e3de2",
   "metadata": {},
   "source": [
    "### Generating mono wav audio format"
   ]
  },
  {
   "cell_type": "code",
   "execution_count": 4,
   "id": "310c46ab",
   "metadata": {},
   "outputs": [
    {
     "data": {
      "text/plain": [
       "<_io.BufferedRandom name='trecho_livro_mono.wav'>"
      ]
     },
     "execution_count": 4,
     "metadata": {},
     "output_type": "execute_result"
    }
   ],
   "source": [
    "from pydub import AudioSegment\n",
    "\n",
    "# Load audio file\n",
    "audio = AudioSegment.from_wav(\"trecho_livro.wav\")\n",
    "# Convert to mono\n",
    "audio = audio.set_channels(1)\n",
    "# Set frame rate\n",
    "audio = audio.set_frame_rate(16000)\n",
    "# Save new audio\n",
    "audio.export(\"trecho_livro_mono.wav\", format=\"wav\")"
   ]
  },
  {
   "cell_type": "code",
   "execution_count": 5,
   "id": "1e73c0ef",
   "metadata": {},
   "outputs": [],
   "source": [
    "from vosk import Model, KaldiRecognizer\n",
    "import wave\n",
    "import json"
   ]
  },
  {
   "cell_type": "code",
   "execution_count": 6,
   "id": "adad8025",
   "metadata": {},
   "outputs": [],
   "source": [
    "# Set path model\n",
    "# See all available models here: https://alphacephei.com/vosk/models\n",
    "path_model=r\"C:\\Users\\Suporte\\.cache\\vosk\\vosk-model-small-pt-0.3\""
   ]
  },
  {
   "cell_type": "code",
   "execution_count": 7,
   "id": "bbd08441",
   "metadata": {},
   "outputs": [],
   "source": [
    "# Initialize model and recognizer\n",
    "model = Model(path_model)\n",
    "rec = KaldiRecognizer(model, 16000)"
   ]
  },
  {
   "cell_type": "code",
   "execution_count": 8,
   "id": "2ee919d9",
   "metadata": {},
   "outputs": [
    {
     "name": "stdout",
     "output_type": "stream",
     "text": [
      "Transcription complete. Output written to transcribed_text.txt.\n"
     ]
    }
   ],
   "source": [
    "# Open WAV file\n",
    "wf = wave.open(\"trecho_livro_mono.wav\", \"rb\")\n",
    "\n",
    "# List to hold all text segments\n",
    "transcribed_text_list = []\n",
    "\n",
    "while True:\n",
    "    data = wf.readframes(4000)\n",
    "    if len(data) == 0:\n",
    "        break\n",
    "    if rec.AcceptWaveform(data):\n",
    "        result = json.loads(rec.Result())\n",
    "        transcribed_text_list.append(result['text'])\n",
    "\n",
    "# Handle last part of audio\n",
    "final_result = json.loads(rec.FinalResult())\n",
    "transcribed_text_list.append(final_result['text'])\n",
    "\n",
    "# Concatenate all text segments\n",
    "complete_text = ' '.join(transcribed_text_list)\n",
    "\n",
    "# Write the complete transcribed text to a text file\n",
    "with open('transcribed_text.txt', 'w') as f:\n",
    "    f.write(complete_text)\n",
    "\n",
    "print(\"Transcription complete. Output written to transcribed_text.txt.\")"
   ]
  },
  {
   "cell_type": "code",
   "execution_count": null,
   "id": "918418d6",
   "metadata": {},
   "outputs": [],
   "source": []
  }
 ],
 "metadata": {
  "kernelspec": {
   "display_name": "Python 3 (ipykernel)",
   "language": "python",
   "name": "python3"
  },
  "language_info": {
   "codemirror_mode": {
    "name": "ipython",
    "version": 3
   },
   "file_extension": ".py",
   "mimetype": "text/x-python",
   "name": "python",
   "nbconvert_exporter": "python",
   "pygments_lexer": "ipython3",
   "version": "3.11.7"
  }
 },
 "nbformat": 4,
 "nbformat_minor": 5
}

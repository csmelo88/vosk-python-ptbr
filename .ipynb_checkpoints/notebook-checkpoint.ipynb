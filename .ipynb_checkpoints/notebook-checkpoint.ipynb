{
 "cells": [
  {
   "cell_type": "raw",
   "metadata": {},
   "source": [
    "####################################################################\n",
    "### CHECK THE LINK BELOW TO ACESS FULL ORIGINAL JUPYTER NOTEBOOK ###\n",
    "####################################################################\n",
    "\n",
    "# https://gist.github.com/johnidm/65fe554bac438b0cb9fbdec80b46d3c6"
   ]
  },
  {
   "cell_type": "code",
   "execution_count": 1,
   "metadata": {},
   "outputs": [
    {
     "name": "stdout",
     "output_type": "stream",
     "text": [
      "('64bit', 'WindowsPE')\n"
     ]
    }
   ],
   "source": [
    "import platform\n",
    "print(platform.architecture())"
   ]
  },
  {
   "cell_type": "code",
   "execution_count": 2,
   "metadata": {},
   "outputs": [],
   "source": [
    "# instalar FFMPEG no windows https://phoenixnap.com/kb/ffmpeg-windows\n",
    "import ffmpeg"
   ]
  },
  {
   "cell_type": "code",
   "execution_count": 3,
   "metadata": {},
   "outputs": [],
   "source": [
    "import subprocess, sys, os, json\n",
    "\n",
    "from datetime import datetime, timedelta\n",
    "\n",
    "from vosk import Model, KaldiRecognizer\n",
    "\n",
    "import pprint"
   ]
  },
  {
   "cell_type": "markdown",
   "metadata": {
    "id": "o1jHXEBL7pDe"
   },
   "source": [
    "#### Write the code"
   ]
  },
  {
   "cell_type": "code",
   "execution_count": 4,
   "metadata": {},
   "outputs": [],
   "source": [
    "SAMPLE_RATE = 16000\n",
    "CHUNK_SIZE = 4000"
   ]
  },
  {
   "cell_type": "code",
   "execution_count": 5,
   "metadata": {
    "id": "RZh7ZYuMgo1z"
   },
   "outputs": [],
   "source": [
    "class Transcriber():\n",
    "    def __init__(self, model_path):\n",
    "        self.model = Model(model_path)\n",
    "\n",
    "    def fmt(self, data):\n",
    "        data = json.loads(data)\n",
    "\n",
    "        start = min(r[\"start\"] for r in data.get(\"result\", [{ \"start\": 0 }]))\n",
    "        end = max(r[\"end\"] for r in data.get(\"result\", [{ \"end\": 0 }]))\n",
    "\n",
    "        return {\n",
    "            \"start\": str(timedelta(seconds=start)), \n",
    "            \"end\": str(timedelta(seconds=end)), \n",
    "            \"text\": data[\"text\"]\n",
    "        }\n",
    "\n",
    "    def transcribe(self, filename):\n",
    "        rec = KaldiRecognizer(self.model, SAMPLE_RATE)\n",
    "        rec.SetWords(True)\n",
    "\n",
    "        if not os.path.exists(filename):\n",
    "            raise FileNotFoundError(filename)\n",
    "\n",
    "        transcription = []\n",
    "\n",
    "        ffmpeg_command = [\n",
    "                \"ffmpeg\",\n",
    "                \"-nostdin\",\n",
    "                \"-loglevel\",\n",
    "                \"quiet\",\n",
    "                \"-i\",\n",
    "                filename,\n",
    "                \"-ar\",\n",
    "                str(SAMPLE_RATE),\n",
    "                \"-ac\",\n",
    "                \"1\",\n",
    "                \"-f\",\n",
    "                \"s16le\",\n",
    "                \"-\",\n",
    "            ]\n",
    "\n",
    "        with subprocess.Popen(ffmpeg_command, stdout=subprocess.PIPE) as process:\n",
    "\n",
    "            start_time = datetime.now() \n",
    "            while True:\n",
    "                data = process.stdout.read(4000)\n",
    "                if len(data) == 0:\n",
    "                    break\n",
    "                \n",
    "                if rec.AcceptWaveform(data):\n",
    "                    transcription.append(self.fmt(rec.Result()))\n",
    "\n",
    "            transcription.append(self.fmt(rec.FinalResult()))\n",
    "            end_time = datetime.now()\n",
    "\n",
    "            time_elapsed = end_time - start_time\n",
    "            print(f\"Time elapsed  {time_elapsed}\")\n",
    "\n",
    "        return {\n",
    "            \"start_time\": start_time.isoformat(),\n",
    "            \"end_time\": end_time.isoformat(),\n",
    "            \"elapsed_time\": time_elapsed,\n",
    "            \"transcription\": transcription,\n",
    "        }\n"
   ]
  },
  {
   "cell_type": "code",
   "execution_count": 6,
   "metadata": {
    "id": "4seyRx9fnCKl"
   },
   "outputs": [],
   "source": [
    "def transcribe(filename, model_path):\n",
    "    transcriber = Transcriber(model_path)\n",
    "    transcription = transcriber.transcribe(filename)\n",
    "\n",
    "    pprint.pprint(transcription)"
   ]
  },
  {
   "cell_type": "markdown",
   "metadata": {
    "id": "BwigxtVrE_fs"
   },
   "source": [
    "### Transcribe a Portuguese audio"
   ]
  },
  {
   "cell_type": "markdown",
   "metadata": {},
   "source": [
    "#### using (large) portuguese language pack model"
   ]
  },
  {
   "cell_type": "code",
   "execution_count": 7,
   "metadata": {
    "colab": {
     "base_uri": "https://localhost:8080/"
    },
    "id": "_mATtwUTi8dn",
    "outputId": "4e172004-8c55-4cd6-97cb-7e1411758471"
   },
   "outputs": [
    {
     "name": "stdout",
     "output_type": "stream",
     "text": [
      "Time elapsed  0:00:05.794439\n",
      "{'elapsed_time': datetime.timedelta(seconds=5, microseconds=794439),\n",
      " 'end_time': '2024-05-27T10:06:27.191426',\n",
      " 'start_time': '2024-05-27T10:06:21.396987',\n",
      " 'transcription': [{'end': '0:00:12.509949',\n",
      "                    'start': '0:00:00.870000',\n",
      "                    'text': 'olá pessoal tudo bem com vocês hoje vou ler um '\n",
      "                            'trecho do livro marcelo marmelo martelo de rute '\n",
      "                            'rocha'},\n",
      "                   {'end': '0:00:33.840000',\n",
      "                    'start': '0:00:14.190000',\n",
      "                    'text': 'marcelo vivia fazendo perguntas a todo mundo para '\n",
      "                            'pai porque é que a chuva cai sua mãe por que é '\n",
      "                            'que o mar não derrama de louvor porque é que o '\n",
      "                            'cachorro tem quatro pernas as pessoas grandes às '\n",
      "                            'vezes real'},\n",
      "                   {'end': '0:00:53.759963',\n",
      "                    'start': '0:00:33.840000',\n",
      "                    'text': 'escondiam as vezes não sabiam como responder a '\n",
      "                            'marcelo sei lá uma vez marcelo cismou com o nome '\n",
      "                            'das coisas rolarem por que é que eu me chamo '\n",
      "                            'marcelo olha marcelo foi o'},\n",
      "                   {'end': '0:01:14.160000',\n",
      "                    'start': '0:00:54.204708',\n",
      "                    'text': 'que e o seu pai escolhermos porque é que não '\n",
      "                            'escolheria o martelo a meu filho martelo não é '\n",
      "                            'nome de gente é nome de ferramenta porque que é '\n",
      "                            'que não escolheram é belo porque dá medo nome de '\n",
      "                            'fruta mim'},\n",
      "                   {'end': '0:01:24.180073',\n",
      "                    'start': '0:01:14.190806',\n",
      "                    'text': 'menor que a fruta não podia chamar marcelo e eu '\n",
      "                            'me chamar mello e marcelo continuou pensando'},\n",
      "                   {'end': '0:01:26.988457',\n",
      "                    'start': '0:01:26.130000',\n",
      "                    'text': 'o'}]}\n"
     ]
    }
   ],
   "source": [
    "filename = \"trecho_livro.mp3\"\n",
    "\n",
    "# acesso ao full model PT-BR funcionando: https://github.com/alphacep/vosk-api/issues/991\n",
    "# a versão full disponível no site da Vosk não funciona\n",
    "model_path = \"vosk-model-pt-fb-v0.1.1-pruned\"\n",
    "\n",
    "transcribe(filename, model_path)"
   ]
  },
  {
   "cell_type": "code",
   "execution_count": 8,
   "metadata": {},
   "outputs": [
    {
     "name": "stdout",
     "output_type": "stream",
     "text": [
      "Time elapsed  0:00:11.827612\n",
      "{'elapsed_time': datetime.timedelta(seconds=11, microseconds=827612),\n",
      " 'end_time': '2024-05-27T10:06:39.668098',\n",
      " 'start_time': '2024-05-27T10:06:27.840486',\n",
      " 'transcription': [{'end': '0:00:12.480000',\n",
      "                    'start': '0:00:00.870000',\n",
      "                    'text': 'olá pessoal tudo bem com vocês hoje vou ler um '\n",
      "                            'trecho do livro marcelo mello martelo de ruth '\n",
      "                            'rocha'},\n",
      "                   {'end': '0:00:18.120000',\n",
      "                    'start': '0:00:14.190000',\n",
      "                    'text': 'marcelo vivia fazendo perguntas a todo mundo'},\n",
      "                   {'end': '0:00:21.749352',\n",
      "                    'start': '0:00:19.202281',\n",
      "                    'text': 'pai que é que a chuva cai'},\n",
      "                   {'end': '0:00:24.599083',\n",
      "                    'start': '0:00:22.800000',\n",
      "                    'text': 'em que é que o mar'},\n",
      "                   {'end': '0:00:28.709714',\n",
      "                    'start': '0:00:27.360000',\n",
      "                    'text': 'porque é que o cachorro'},\n",
      "                   {'end': '0:00:41.070000',\n",
      "                    'start': '0:00:31.020000',\n",
      "                    'text': 'as pessoas grandes às vezes e respondiam às vezes '\n",
      "                            'não sabiam como responder a ser você'},\n",
      "                   {'end': '0:00:46.889421',\n",
      "                    'start': '0:00:42.870000',\n",
      "                    'text': 'uma vez marcelo cismou com o nome das coisas'},\n",
      "                   {'end': '0:00:56.608374',\n",
      "                    'start': '0:00:48',\n",
      "                    'text': 'em que é que eu me chamo mais cedo ou é marcelo '\n",
      "                            'foi o nome que eu e o seu pai escolhemos'},\n",
      "                   {'end': '0:00:59.110159',\n",
      "                    'start': '0:00:58.105276',\n",
      "                    'text': 'que não escolheram'},\n",
      "                   {'end': '0:01:02.039612',\n",
      "                    'start': '0:01:00.840000',\n",
      "                    'text': 'meu filho'},\n",
      "                   {'end': '0:01:07.410000',\n",
      "                    'start': '0:01:03.180000',\n",
      "                    'text': 'não é nome de gente é nome de ferramenta'},\n",
      "                   {'end': '0:01:14.820000',\n",
      "                    'start': '0:01:08.789180',\n",
      "                    'text': 'que não escolheram menu porquê medo enorme de '\n",
      "                            'fruta menino'},\n",
      "                   {'end': '0:01:19.288015',\n",
      "                    'start': '0:01:16.313276',\n",
      "                    'text': 'até não podia chamar mais cedo e eu me chamou'},\n",
      "                   {'end': '0:01:24.180000',\n",
      "                    'start': '0:01:21.150000',\n",
      "                    'text': 'e marcelo continuo pensando'},\n",
      "                   {'end': '0:00:00', 'start': '0:00:00', 'text': ''}]}\n"
     ]
    }
   ],
   "source": [
    "filename = \"trecho_livro.mp3\"\n",
    "\n",
    "model_path = \"vosk-model-small-pt-0.3\"\n",
    "\n",
    "transcribe(filename, model_path)"
   ]
  }
 ],
 "metadata": {
  "colab": {
   "include_colab_link": true,
   "provenance": []
  },
  "kernelspec": {
   "display_name": "Python 3 (ipykernel)",
   "language": "python",
   "name": "python3"
  },
  "language_info": {
   "codemirror_mode": {
    "name": "ipython",
    "version": 3
   },
   "file_extension": ".py",
   "mimetype": "text/x-python",
   "name": "python",
   "nbconvert_exporter": "python",
   "pygments_lexer": "ipython3",
   "version": "3.11.7"
  }
 },
 "nbformat": 4,
 "nbformat_minor": 1
}
